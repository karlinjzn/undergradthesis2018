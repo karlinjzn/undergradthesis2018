{
 "cells": [
  {
   "cell_type": "markdown",
   "metadata": {},
   "source": [
    "# 1. Consumer Choice Models\n",
    "\n",
    "## 1.1 Choice Model based on perception of risks\n",
    "\n",
    "Consumer behaviors are related to their individual perception of risks.\n",
    "For one consumer, his/her choice is based on the maximization of utility conditional on their acceptance of risks.\n",
    "\n",
    "$$ \\max_x u(x \\mid r) $$\n",
    "$$ u(x)=\\left\\{\n",
    "\\begin{aligned}\n",
    "cx \\\\\n",
    "ce^x \\\\\n",
    "c\\sqrt{x}\n",
    "\\end{aligned}\n",
    "\\right.\n",
    ", x \\ge 0$$\n",
    "\n",
    "Some other complex functions which indicate consumers' changing perception of risks are also used.\n",
    "\n",
    "## 1.2 Choice Model involving discounting effects on time\n",
    "\n",
    "Today's choice is more decisional to consumers than that of 365 days later. Here we denote $\\delta$ as a discounting effect relative to time.\n",
    "\n",
    "$$ \\max_{x_t} \\sum_t {u_t}({x_t})\\delta(t) $$\n",
    "\n",
    "The usually used discounting effects have exponential form and quadratic form.\n",
    "\n",
    "## 1.3 Random Choice Model\n",
    "\n",
    "Here we add a stochastic variable $\\epsilon$ to the consumer's estimations of prices. v denotes the good's perceived value. p denoted the good's actual price.\n",
    "\n",
    "For the goods 1,2,...,n, we have consumer's specific perception of value as\n",
    "\n",
    "$$ \\begin{array}{cccc}\n",
    "1 & 2 & ... & n \\\\\n",
    "v_1+\\epsilon_1 & v_2+\\epsilon_2 & ... & v_n+\\epsilon_n \n",
    "\\end{array} $$\n",
    "\n",
    "The simplest purchase probability hence is\n",
    "\n",
    "$$ Pr(p_i \\le v_i+\\epsilon_i) $$"
   ]
  },
  {
   "cell_type": "markdown",
   "metadata": {},
   "source": [
    "# 2. Extreme Value Distribution\n",
    "\n",
    "**Extreme value distributions** arise as limiting distributions for maximums or minimums (extreme values) of a sample of independent, identically distributed random variables, as the sample size increases. These distributions are important to discuss here before developing our discrete choice models.\n",
    "\n",
    "Here we are interested in the standard distribution for maximums, because we are interested in the maximized utility.\n",
    "\n",
    "## The Standard Distribution for Maximums\n",
    "### The distribution function\n",
    "\n",
    "$$ G(v) = e^{-e^{-v}} , v \\in \\mathbb{R}$$\n",
    "\n",
    "This is the **type 1 extreme value distribution for maximums**. It is also known as the **Gumbel distribution**. This distribution arises as the limit of the maximum of n independent random variables, each with the standard exponential distribution.  "
   ]
  },
  {
   "cell_type": "code",
   "execution_count": 24,
   "metadata": {
    "collapsed": true
   },
   "outputs": [],
   "source": [
    "from sympy import *\n",
    "import numpy as np\n",
    "import matplotlib.pyplot as plt\n",
    "%matplotlib inline"
   ]
  },
  {
   "cell_type": "code",
   "execution_count": 42,
   "metadata": {
    "collapsed": false
   },
   "outputs": [],
   "source": [
    "x = Symbol('x')"
   ]
  },
  {
   "cell_type": "code",
   "execution_count": 82,
   "metadata": {
    "collapsed": false
   },
   "outputs": [
    {
     "data": {
      "image/png": "[encoded data removed]",
      "text/plain": [
       "<matplotlib.figure.Figure at 0x119f28dd0>"
      ]
     },
     "metadata": {},
     "output_type": "display_data"
    },
    {
     "data": {
      "text/plain": [
       "<sympy.plotting.plot.Plot at 0x119f285d0>"
      ]
     },
     "execution_count": 82,
     "metadata": {},
     "output_type": "execute_result"
    }
   ],
   "source": [
    "x = symbols(\"x\")\n",
    "G = exp(-exp(-x))\n",
    "plot(G, (x, -10, 10))"
   ]
  },
  {
   "cell_type": "markdown",
   "metadata": {},
   "source": [
    "### The density function\n",
    "$$ g(v)= e^{-v}e^{-e^{-v}} , v \\in \\mathbb{R}$$\n",
    "\n",
    "We can see the graph below and see that the distribution is unimodal and skewed right.\n",
    "\n",
    "a. $g$ is increasing on $(-\\infty,0)$ and decreasing on $(0,\\infty)$. The mode occurs at 0.\n",
    "\n",
    "b. $g$ is concave upward on $(-\\infty,-c)$ and on $(c,\\infty)$, and concave downward on $(-c,c)$, where $c=ln(\\frac{3+\\sqrt 5}{2})$"
   ]
  },
  {
   "cell_type": "code",
   "execution_count": 11,
   "metadata": {
    "collapsed": false
   },
   "outputs": [
    {
     "data": {
      "image/png": "[encoded data removed]",
      "text/plain": [
       "<matplotlib.figure.Figure at 0x10f990810>"
      ]
     },
     "metadata": {},
     "output_type": "display_data"
    },
    {
     "data": {
      "text/plain": [
       "<sympy.plotting.plot.Plot at 0x10f990e10>"
      ]
     },
     "execution_count": 11,
     "metadata": {},
     "output_type": "execute_result"
    }
   ],
   "source": [
    "g = diff(G)\n",
    "plot(g, (x, -10, 10))"
   ]
  },
  {
   "cell_type": "code",
   "execution_count": 14,
   "metadata": {
    "collapsed": false
   },
   "outputs": [
    {
     "data": {
      "text/plain": [
       "[zoo, log(-sqrt(5)/2 + 3/2), log(sqrt(5)/2 + 3/2)]"
      ]
     },
     "execution_count": 14,
     "metadata": {},
     "output_type": "execute_result"
    }
   ],
   "source": [
    "result = diff(G,x,3)\n",
    "solve(result)"
   ]
  },
  {
   "cell_type": "markdown",
   "metadata": {},
   "source": [
    "### The quantile function\n",
    "\n",
    "$$ G^{-1}(p)=-ln(-ln(p)), p \\in (0,1)$$"
   ]
  },
  {
   "cell_type": "code",
   "execution_count": 92,
   "metadata": {
    "collapsed": false
   },
   "outputs": [
    {
     "name": "stdout",
     "output_type": "stream",
     "text": [
      "-0.326634259978\n",
      "0.366512920582\n",
      "1.24589932371\n"
     ]
    }
   ],
   "source": [
    "print float(-ln(ln(4)))\n",
    "print float(-ln(ln(2)))\n",
    "print float(-ln(ln(4)-ln(3)))"
   ]
  },
  {
   "cell_type": "markdown",
   "metadata": {},
   "source": [
    "We want to find the quantile function for G."
   ]
  },
  {
   "cell_type": "code",
   "execution_count": 100,
   "metadata": {
    "collapsed": false
   },
   "outputs": [],
   "source": [
    "from scipy.interpolate import interp1d\n",
    "x_array = np.linspace(-10, 10, num=2000, endpoint=True)\n",
    "\n",
    "G_discrete = []\n",
    "for i in x_array:\n",
    "    G_discrete.append(G.subs(x, i))\n",
    "\n",
    "x_new = np.linspace(0, 1, num=2000, endpoint=True)\n",
    "G_inv = interp1d( G_discrete, x_array )"
   ]
  },
  {
   "cell_type": "markdown",
   "metadata": {},
   "source": [
    "Note that here G_inv is the interpolated quantile function of G. We therefore show the first, median, third quantile as below."
   ]
  },
  {
   "cell_type": "code",
   "execution_count": 107,
   "metadata": {
    "collapsed": false,
    "scrolled": true
   },
   "outputs": [
    {
     "name": "stdout",
     "output_type": "stream",
     "text": [
      "-0.326636707228771\n",
      "0.366514701587483\n",
      "1.24590028408479\n"
     ]
    }
   ],
   "source": [
    "print G_inv(0.25)\n",
    "print G_inv(0.5)\n",
    "print G_inv(0.75)"
   ]
  },
  {
   "cell_type": "code",
   "execution_count": 109,
   "metadata": {
    "collapsed": false
   },
   "outputs": [
    {
     "data": {
      "text/plain": [
       "[<matplotlib.lines.Line2D at 0x11b037190>]"
      ]
     },
     "execution_count": 109,
     "metadata": {},
     "output_type": "execute_result"
    },
    {
     "data": {
      "image/png": "[encoded data removed]",
      "text/plain": [
       "<matplotlib.figure.Figure at 0x11a690610>"
      ]
     },
     "metadata": {},
     "output_type": "display_data"
    }
   ],
   "source": [
    "Ginv_discrete = []\n",
    "for i in x_new:\n",
    "    Ginv_discrete.append(G.subs(x, i))\n",
    "\n",
    "plt.plot(x_new,Ginv_discrete)"
   ]
  },
  {
   "cell_type": "markdown",
   "metadata": {},
   "source": [
    "### Moments\n",
    "\n",
    "Suppose V has the extreme value distribution for maximums. The moment generating function is given by\n",
    "\n",
    "$$ m(t)= \\mathbb{E}(e^{tV}) = \\Gamma (1-t), t<1 $$\n",
    "\n",
    "Compute the mean and variance.\n",
    "\n",
    "$$ \\gamma = - \\Gamma '(1) = -\\int_0^{\\infty}e^{-x}ln(x)dx \\approx 0.57721656649 $$\n",
    "\n",
    "$$ var(V) = \\pi^2/6 $$"
   ]
  },
  {
   "cell_type": "markdown",
   "metadata": {},
   "source": [
    "## The general extreme value distribution\n",
    "\n",
    "More generally, we can form the location-scale family associated with these standard distributions. If $a \\in \\mathbb{R}$ and $b > 0$, then\n",
    "\n",
    "$ X = a + bV$ has the **extreme value distribution for maximums** with **location parameter** a and **scale parameter** b.\n",
    "\n",
    "It has distribution function\n",
    "\n",
    "$$ F(x) = e^{ -e^{- \\frac{x-a}{b}}}, x \\in \\mathbb{R} $$\n",
    "\n",
    "And density function\n",
    "\n",
    "$$ f(x) = \\frac{1}{b}e^{-\\frac{x-a}{b}}e^{ -e^{- \\frac{x-a}{b}}}, x \\in \\mathbb{R} $$\n",
    "\n",
    "Using the standardied variable $s = (x-a)/b $, we have the cdf for the general extreme value distribution (GEV):\n",
    "\n",
    "$$ F(s;\\xi)=\\left\\{\n",
    "\\begin{aligned}\n",
    "exp(-(1+\\xi s)^{-1/\\xi}), \\xi \\ne 0\\\\\n",
    "exp(-exp(-s), \\xi = 0\\\\\n",
    "\\end{aligned}\n",
    "\\right.\n",
    "$$\n",
    "\n",
    "The sub-families defined by $\\xi = 0$, $\\xi > 0$ and $\\xi < 0$ correspond to the Gumbel, Frechet and Weibull families."
   ]
  },
  {
   "cell_type": "markdown",
   "metadata": {},
   "source": [
    "# 3. Discrete Choice Models\n",
    "\n",
    "## 3.1 The conditional Logit Model\n",
    "\n",
    "The Extreme Value Type I distribution has two good features:\n",
    "\n",
    "* The difference between two EV Type I random variables is a logit.\n",
    "\n",
    "Can be demonstrated by assuming $u = \\epsilon_2 - \\epsilon_1 $ and $\\epsilon_1 = v$ and calculate $u$'s marginal density, which coincides with the density of the logistic distribution. \n",
    "\n",
    "* EV Type Is are closed under maximization (assuming independence).\n",
    "\n",
    "$$ Pr(\\max_i \\left\\{ \\epsilon_i \\right\\} \\le \\epsilon) = \\prod_{i=1}^n Pr(\\epsilon_i \\le \\epsilon) $$\n",
    "$$ = \\prod_{i=1}^n exp(-exp(-(\\epsilon + \\alpha_i))) $$\n",
    "$$ = exp(-(\\sum_{i=1}^n exp(-(\\epsilon + \\alpha_i))))$$\n",
    "$$ = exp(-(exp(-\\epsilon))\\sum_{i=1}^n exp(-\\alpha_i))$$\n",
    "\n",
    "Solve for $\\alpha$ in:\n",
    "\n",
    "$$ \\sum_{i=1}^n exp(-\\alpha_i) = exp(-\\alpha) $$\n",
    "\n",
    "And we can get:\n",
    "\n",
    "$$ -\\alpha = log(\\sum_{i=1}^n exp(-\\alpha_i))$$\n",
    "\n",
    "Substitute this $\\alpha$ we can get:\n",
    "\n",
    "$$ Pr(\\max_i \\left\\{ \\epsilon_i \\right\\}) = exp(-(exp(-\\epsilon))exp(-\\alpha)) $$\n",
    "$$ = exp(-exp(-(\\epsilon + \\alpha)))$$\n",
    "\n",
    "And this is an EV Type I distribution.\n",
    "\n",
    "**Random Utility Model**\n",
    "\n",
    "Corresponding to our assumption in 1.3, we now discuss the random utility model. If product $k$ is chosen, the probability can be calculated as below:\n",
    "\n",
    "$$P_k = Pr(\\epsilon_k - \\epsilon_z \\ge \\Delta_z, \\epsilon_k - \\epsilon_j \\ge \\Delta_j, \\forall j)$$\n",
    "\n",
    "$\\Delta_z$ and $\\Delta_j$ is given, $\\forall j$.\n",
    "\n",
    "We assume all $\\epsilon_j$ and $\\epsilon_z$ follow $EV(0,\\mu)$.\n",
    "\n",
    "$$P_k = Pr(\\epsilon_k - \\epsilon_z \\ge \\Delta_z, \\epsilon_k - \\epsilon_j \\ge \\Delta_j, \\forall j)$$\n",
    "$$= \\int_{\\epsilon_k} F_z(\\epsilon_z - \\Delta_z) \\prod_{j \\ne k} F_j(\\epsilon_k - \\Delta_j) d F_k(\\epsilon_k)$$\n",
    "\n",
    "$$= \\int_{\\epsilon_k} exp[-exp(-\\frac{\\epsilon_k-\\Delta_z}{\\mu})-\\sum_{j \\ne k} exp(-\\frac{\\epsilon_k-\\Delta_j}{\\mu})]dF_k(\\epsilon_k) $$\n",
    "\n",
    "$$= \\int_{\\epsilon_k} exp\\left\\{-exp(-\\frac{\\epsilon_k}{\\mu})[exp(\\frac{\\Delta z}{\\mu} + \\sum_{j \\ne k} exp(\\frac{\\Delta_j}{\\mu})]\\right\\}dF_k(\\epsilon_k) $$\n",
    "\n",
    "Let $exp(\\frac{\\alpha_k}{\\mu})=exp(\\frac{\\Delta_z}{\\mu})+\\sum_{j \\ne k} exp(\\frac{\\Delta_j}{\\mu})$\n",
    "\n",
    "Thus, it follows that\n",
    "\n",
    "$$ \\int_{\\epsilon_k} exp[-exp(-\\frac{\\epsilon_k-\\alpha_k}{\\mu})]dF_k(\\epsilon_k) $$\n",
    "\n",
    "$$ = \\int_{\\epsilon_k} exp[-exp(-\\frac{\\epsilon_k-\\alpha_k}{\\mu})]exp(-\\frac{\\epsilon_k}{\\mu})exp(-exp(-\\frac{\\epsilon_k}{\\mu}))\\frac{1}{\\mu}d\\epsilon_k$$\n",
    "\n",
    "$$ = \\int_{\\epsilon_k} exp[-exp(-\\frac{\\epsilon_k-\\alpha_k}{\\mu})-exp(-\\frac{\\epsilon_k}{\\mu})]exp(-\\frac{\\epsilon_k}{\\mu})\\frac{1}{\\mu}d\\epsilon_k$$\n",
    "\n",
    "$$ = \\int_{\\epsilon_k} exp[-exp(-\\frac{\\epsilon_k}{\\mu})[exp(\\frac{\\alpha_k}{\\mu})+1])exp(-\\frac{\\epsilon_k}{\\mu})\\frac{1}{\\mu}d\\epsilon_k$$\n",
    "\n",
    "Let $exp(\\frac{\\alpha_k}{\\mu})+1$ be $exp(\\frac{\\alpha_k'}{\\mu})$, therefore\n",
    "\n",
    "$$ = \\int_{\\epsilon_k} exp[-exp(-\\frac{\\epsilon_k-\\alpha_k'}{\\mu})]exp[-\\frac{(\\epsilon_k-\\alpha_k')}{\\mu}]\\frac{1}{\\mu}d\\epsilon_k exp(-\\frac{\\alpha_k'}{\\mu}) $$\n",
    "\n",
    "$$ = \\frac{1}{exp(\\frac{\\alpha_k'}{\\mu})}$$\n",
    "\n",
    "$$ = \\frac{1}{exp(\\frac{\\Delta_z}{\\mu})+\\sum_{j \\ne k} exp(\\frac{\\Delta_j}{\\mu})}$$\n",
    "\n",
    "A restrictive property of the conditional (conditional on a certain choice set) logit model is that we have assumed the independence of the $\\epsilon_i$, when in fact they may be correlated. This can be illustrated by the famous red bus problem. Consider the choice set {car, bus} and {car, red bus, blue bus}. By the derivation of the probability we can see that adding more kinds of buses can decrease the probability that car travel is chosen."
   ]
  },
  {
   "cell_type": "markdown",
   "metadata": {},
   "source": [
    "## 3.2 The Nested Logit\n",
    "\n"
   ]
  },
  {
   "cell_type": "markdown",
   "metadata": {},
   "source": [
    "# 4. Nair's Paper Reading\n",
    "\n",
    "## 4.1 Basic object and constraint functions\n",
    "\n",
    "$$ \\max_{x_1,x_2,...,x_J} u=u^*(\\sum_{j=1}^J \\psi_j x_j,z) $$\n",
    "s.t.\n",
    "$$ \\sum_{j=1}^J \\psi_j x_j + z = y $$\n",
    "\n",
    "\n",
    "## 4.2 KKT condition\n",
    "\n",
    "We want to solve for the x that maximizes the object function. The KKT conditions for the utility to be optimal are as follows:\n",
    "\n",
    "* Stationary\n",
    "* Primal Feasible (PF)\n",
    "* Dual Feasible (DF)\n",
    "* Complementary Slackness (CS)\n",
    "\n",
    "This generates:\n",
    "\n",
    "If $j = k$, $x_k^* > 0$ then $ \\mu_k = 0$ and $u_1(\\sum_{j=1}^J \\psi_j x_j,z)\\psi_k = \\lambda p_k$\n",
    "\n",
    "If $j \\ne k$, $\\mu_j \\ge 0$ then $u_1(\\sum_{j=1}^J \\psi_j x_j,z)\\psi_k \\le \\lambda p_k$\n",
    "\n",
    "If the consumer choose k, $\\frac{\\psi_k}{p_k} = \\frac{\\lambda}{u_1(\\sum_{j=1}^J \\psi_j x_j,z)} \\ge \\frac{\\psi_j}{p_j}, \\forall j$."
   ]
  },
  {
   "cell_type": "code",
   "execution_count": null,
   "metadata": {
    "collapsed": true
   },
   "outputs": [],
   "source": []
  }
 ],
 "metadata": {
  "anaconda-cloud": {},
  "kernelspec": {
   "display_name": "Python [Root]",
   "language": "python",
   "name": "Python [Root]"
  },
  "language_info": {
   "codemirror_mode": {
    "name": "ipython",
    "version": 2
   },
   "file_extension": ".py",
   "mimetype": "text/x-python",
   "name": "python",
   "nbconvert_exporter": "python",
   "pygments_lexer": "ipython2",
   "version": "2.7.12"
  }
 },
 "nbformat": 4,
 "nbformat_minor": 2
}
